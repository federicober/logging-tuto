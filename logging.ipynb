{
 "cells": [
  {
   "cell_type": "markdown",
   "metadata": {},
   "source": [
    "# `import logging`\n",
    "\n",
    "Going beyond \n",
    "\n",
    "```python\n",
    "logging.basicConfig(level=\"INFO\"); logging.info(\"Hello\")\n",
    "```\n",
    "\n",
    "---\n",
    "\n",
    "**Table of contents**\n",
    "\n",
    "[TOC]"
   ]
  },
  {
   "cell_type": "code",
   "execution_count": 1,
   "metadata": {},
   "outputs": [],
   "source": [
    "import logging\n",
    "import logging.config\n",
    "import importlib\n",
    "import sys\n",
    "\n",
    "def reload() -> None:\n",
    "    \"\"\"Call this at every cell to reset logging config\"\"\"\n",
    "    importlib.reload(logging)\n",
    "    importlib.reload(logging.config)"
   ]
  },
  {
   "cell_type": "markdown",
   "metadata": {},
   "source": [
    "# Logging flow\n",
    "\n",
    "*[Link to docs](https://docs.python.org/3/howto/logging.html#logging-flow)*\n",
    "\n",
    "![](https://docs.python.org/3/_images/logging_flow.png)\n",
    "\n",
    "## Objects we need to understand\n",
    "1. Loggers\n",
    "2. Handler\n",
    "3. Formatter\n",
    "4. Filters\n",
    "5. Log Record"
   ]
  },
  {
   "cell_type": "code",
   "execution_count": 2,
   "metadata": {},
   "outputs": [],
   "source": [
    "# How to give a code example of this?"
   ]
  },
  {
   "cell_type": "markdown",
   "metadata": {},
   "source": [
    "# Loggers\n",
    "## Naming loggers\n",
    "\n",
    "Loggers apply the first level of filtering and emit the log record.\n",
    "\n",
    "To get loggers, we use the `logging.getLogger(__name__)` helper function. \n",
    "Using the module  (`__name__`) as logger name is common."
   ]
  },
  {
   "cell_type": "code",
   "execution_count": 3,
   "metadata": {},
   "outputs": [
    {
     "name": "stdout",
     "output_type": "stream",
     "text": [
      "<Logger foo (WARNING)>\n",
      "foo\n",
      "<class 'logging.Logger'>\n"
     ]
    }
   ],
   "source": [
    "reload()\n",
    "\n",
    "logger = logging.getLogger(\"foo\")\n",
    "\n",
    "print(logger, logger.name, type(logger), sep=\"\\n\")"
   ]
  },
  {
   "cell_type": "markdown",
   "metadata": {},
   "source": [
    "## Loggers parents and childs\n",
    "\n",
    "Loggers are named with herarchical system using dots (`.`)."
   ]
  },
  {
   "cell_type": "code",
   "execution_count": 4,
   "metadata": {},
   "outputs": [
    {
     "name": "stdout",
     "output_type": "stream",
     "text": [
      "The parent of logger_child=<Logger foo.bar (WARNING)> is logger.parent=<RootLogger root (WARNING)>\n"
     ]
    }
   ],
   "source": [
    "reload()\n",
    "\n",
    "logger_parent = logging.getLogger(\"foo\")\n",
    "\n",
    "logger_child = logging.getLogger(\"foo.bar\")\n",
    "\n",
    "print(f\"The parent of {logger_child=} is {logger.parent=}\")"
   ]
  },
  {
   "cell_type": "markdown",
   "metadata": {},
   "source": [
    "Child loggers will propagate (i.e. forward) log records to their parents if:\n",
    "- The child is enabled for \n",
    "- the `propagate` attribute is set to `True`.\n",
    "\n",
    "**Pseudo code**\n",
    "```python\n",
    "## PSEUDO\n",
    "# logger: Current Logger\n",
    "# log_record: log record being emited\n",
    "\n",
    "logger.emit(log_record)\n",
    "while \"logger has parent\" and logger.propagate:\n",
    "    parent_name = logger.name.split(\".\")[0]\n",
    "    logger = logging.getLogger(parent_name)\n",
    "\n",
    "    if logger.disabled or \"logger is not enabled for log_record\":\n",
    "        break\n",
    "\n",
    "    logger.emit(log_record)\n",
    "```"
   ]
  },
  {
   "cell_type": "code",
   "execution_count": 5,
   "metadata": {},
   "outputs": [
    {
     "name": "stdout",
     "output_type": "stream",
     "text": [
      "/\\/\\Hello/\\/\\\n",
      "---Hello---\n",
      "/\\/\\Goodbye/\\/\\\n"
     ]
    }
   ],
   "source": [
    "reload()\n",
    "\n",
    "logger_parent = logging.getLogger(\"foo\")\n",
    "\n",
    "logger_child = logging.getLogger(\"foo.bar\")\n",
    "\n",
    "logger_parent.setLevel(logging.INFO)\n",
    "logger_child.setLevel(logging.INFO)\n",
    "\n",
    "# we will go into more depth into handlers and formatters latter\n",
    "# this will print \n",
    "# parent messages with the format ---message----\n",
    "# child messages with the format /\\/\\message/\\/\\\n",
    "\n",
    "handler_parent = logging.StreamHandler(sys.stdout)\n",
    "handler_parent.formatter = logging.Formatter(\"---%(msg)s---\")\n",
    "logger_parent.addHandler(handler_parent)\n",
    "\n",
    "handler_child = logging.StreamHandler(sys.stdout)\n",
    "handler_child.formatter = logging.Formatter(\"/\\\\/\\\\%(msg)s/\\\\/\\\\\")\n",
    "logger_child.addHandler(handler_child)\n",
    "\n",
    "# With propagate, the message is emited by both loggers\n",
    "logger_child.propagate = True\n",
    "logger_child.info(\"Hello\")\n",
    "\n",
    "# Without propagate, the child will never pass the message to the parent\n",
    "logger_child.propagate = False\n",
    "logger_child.info(\"Goodbye\")"
   ]
  },
  {
   "cell_type": "markdown",
   "metadata": {},
   "source": [
    "# The Root Logger\n",
    "\n",
    "The root logger is the parent of all loggers that don't have a dot in their name.\n",
    "\n",
    "I.e. the root logger is the ancestor of every other logger."
   ]
  },
  {
   "cell_type": "code",
   "execution_count": 6,
   "metadata": {},
   "outputs": [
    {
     "name": "stdout",
     "output_type": "stream",
     "text": [
      "Root logger: <RootLogger root (WARNING)>\n",
      "Q: Is the '<RootLogger root (WARNING)>' the parent of logger '<Logger foo (WARNING)>'?\n",
      "A: True\n",
      "Q: Is 'child_of_root=<Logger foo (WARNING)>' the same as 'named_top_level_logger=<Logger foo (WARNING)>'?\n",
      "A: True\n"
     ]
    }
   ],
   "source": [
    "reload()\n",
    "\n",
    "root_logger = logging.getLogger() # or logging.root\n",
    "child_of_root = root_logger.getChild(\"foo\")\n",
    "named_top_level_logger = logging.getLogger(\"foo\")\n",
    "\n",
    "print(\"Root logger:\", root_logger)\n",
    "print(f\"Q: Is the '{root_logger}' the parent of logger '{named_top_level_logger}'?\\nA: {named_top_level_logger.parent is root_logger}\")\n",
    "print(f\"Q: Is '{child_of_root=}' the same as '{named_top_level_logger=}'?\\nA: {child_of_root is named_top_level_logger}\")\n"
   ]
  },
  {
   "cell_type": "markdown",
   "metadata": {},
   "source": [
    "## Loggers: Level"
   ]
  },
  {
   "cell_type": "code",
   "execution_count": 7,
   "metadata": {},
   "outputs": [
    {
     "name": "stderr",
     "output_type": "stream",
     "text": [
      "INFO:foo:Hello\n"
     ]
    }
   ],
   "source": [
    "reload()\n",
    "\n",
    "logging.basicConfig(level=\"INFO\")\n",
    "\n",
    "logger = logging.getLogger(\"foo\")\n",
    "\n",
    "# If the set log level is less or equal than the message\n",
    "# the log record is emitted \n",
    "logger.setLevel(logging.INFO)\n",
    "logger.info(\"Hello\")\n",
    "\n",
    "# If the set log level is greather than the message\n",
    "# the log record is ignored \n",
    "logger.setLevel(logging.WARNING)\n",
    "logger.info(\"Goodbye\")\n"
   ]
  },
  {
   "cell_type": "markdown",
   "metadata": {},
   "source": [
    "## Loggers: Disabled"
   ]
  },
  {
   "cell_type": "code",
   "execution_count": 8,
   "metadata": {},
   "outputs": [
    {
     "name": "stderr",
     "output_type": "stream",
     "text": [
      "INFO:foo:Hello\n"
     ]
    }
   ],
   "source": [
    "reload()\n",
    "\n",
    "logging.basicConfig(level=\"INFO\")\n",
    "\n",
    "logger = logging.getLogger(\"foo\")\n",
    "\n",
    "logger.disabled = False\n",
    "logger.info(\"Hello\")\n",
    "\n",
    "logger.disabled = True\n",
    "logger.info(\"Goodbye\")"
   ]
  },
  {
   "cell_type": "markdown",
   "metadata": {},
   "source": [
    "## Custom logger classes\n",
    "\n",
    "You can extend and modify the behaviour of the Logger class.\n",
    "\n",
    "Some example use cases are:\n",
    "- Json loggers\n",
    "- Context loggers\n",
    "- etc"
   ]
  },
  {
   "cell_type": "code",
   "execution_count": 9,
   "metadata": {},
   "outputs": [
    {
     "name": "stderr",
     "output_type": "stream",
     "text": [
      "INFO:foo:Hello\n"
     ]
    },
    {
     "name": "stdout",
     "output_type": "stream",
     "text": [
      "I'm making a log record\n"
     ]
    }
   ],
   "source": [
    "reload()\n",
    "\n",
    "class MyNoisyLogger(logging.Logger):\n",
    "    def makeRecord(self, *args, **kwargs) -> logging.LogRecord:\n",
    "        print(\"I'm making a log record\")\n",
    "        return super().makeRecord(*args, *kwargs)\n",
    "\n",
    "logging.basicConfig(level=\"INFO\")\n",
    "\n",
    "logging.setLoggerClass(MyNoisyLogger)\n",
    "\n",
    "logger = logging.getLogger(\"foo\")\n",
    "logger.info(\"Hello\")"
   ]
  },
  {
   "cell_type": "markdown",
   "metadata": {},
   "source": [
    "# Handlers\n",
    "Handlers act upon log records do perform an specific action.\n",
    "\n",
    "Some example actions:\n",
    "- Print to terminal\n",
    "- Append to file\n",
    "- Send a HTTP request\n",
    "- etc\n",
    "\n",
    "Handlers are also responsible for formatting the log record and transforming them to strings. See [Formatters](#formatters)."
   ]
  },
  {
   "cell_type": "code",
   "execution_count": 10,
   "metadata": {},
   "outputs": [
    {
     "name": "stdout",
     "output_type": "stream",
     "text": [
      "[<StreamHandler stdout (NOTSET)>]\n",
      "Staying\n",
      "[<StreamHandler stdout (NOTSET)>, <StreamHandler stdout (NOTSET)>]\n",
      "Goodbye\n",
      "Goodbye\n"
     ]
    }
   ],
   "source": [
    "reload()\n",
    "\n",
    "logger = logging.getLogger(\"foo\")\n",
    "logger.setLevel(logging.INFO)\n",
    "\n",
    "# without any handlers\n",
    "logger.info(\"Hello\")\n",
    "\n",
    "# with a StreamHandler\n",
    "logger.addHandler(logging.StreamHandler(sys.stdout))\n",
    "print(logger.handlers)\n",
    "logger.info(\"Staying\")\n",
    "\n",
    "# with another StreamHandler\n",
    "# the message gets handled by each handler independantly\n",
    "logger.addHandler(logging.StreamHandler(sys.stdout))\n",
    "print(logger.handlers)\n",
    "logger.info(\"Goodbye\")"
   ]
  },
  {
   "cell_type": "markdown",
   "metadata": {},
   "source": [
    "## Handlers: levels and and other attributes\n",
    "Handlers, like loggers, have a level and [filters](#filters).\n",
    "\n",
    "Contrary to loggers:\n",
    "- they are not hierarchical and don't propagate anything\n",
    "- they do not have a enabled/disabled state"
   ]
  },
  {
   "cell_type": "code",
   "execution_count": 11,
   "metadata": {},
   "outputs": [
    {
     "name": "stdout",
     "output_type": "stream",
     "text": [
      "[<StreamHandler stdout (INFO)>]\n",
      "Hello\n",
      "[<StreamHandler stdout (WARNING)>]\n"
     ]
    }
   ],
   "source": [
    "reload()\n",
    "\n",
    "logger = logging.getLogger(\"foo\")\n",
    "logger.setLevel(logging.INFO)\n",
    "\n",
    "handler: logging.Handler = logging.StreamHandler(sys.stdout)\n",
    "logger.addHandler(handler)\n",
    "\n",
    "handler.setLevel(logging.INFO)\n",
    "print(logger.handlers)\n",
    "logger.info(\"Hello\")\n",
    "\n",
    "handler.setLevel(logging.WARNING)\n",
    "print(logger.handlers)\n",
    "logger.info(\"Hello\")  # gets ignored by the handler"
   ]
  },
  {
   "cell_type": "markdown",
   "metadata": {},
   "source": [
    "## Other important handlers"
   ]
  },
  {
   "cell_type": "code",
   "execution_count": null,
   "metadata": {},
   "outputs": [],
   "source": []
  },
  {
   "cell_type": "markdown",
   "metadata": {},
   "source": [
    "## Useful Handlers\n",
    "\n",
    "*[Link to docs](https://docs.python.org/3/howto/logging.html#useful-handlers)*\n",
    "\n",
    "Python has a lot of useful handlers already included in the `logging.handlers` module."
   ]
  },
  {
   "cell_type": "code",
   "execution_count": null,
   "metadata": {},
   "outputs": [],
   "source": []
  },
  {
   "cell_type": "markdown",
   "metadata": {},
   "source": [
    "# Formatters"
   ]
  },
  {
   "cell_type": "markdown",
   "metadata": {},
   "source": []
  },
  {
   "cell_type": "markdown",
   "metadata": {},
   "source": [
    "# Filters\n",
    "\n",
    "Filters are functions or classes that are called upon a LogRecord to determine if it should be filtered."
   ]
  },
  {
   "cell_type": "code",
   "execution_count": 12,
   "metadata": {},
   "outputs": [
    {
     "name": "stderr",
     "output_type": "stream",
     "text": [
      "INFO:foo:Hello\n",
      "INFO:foo:This message should be IGNORED but there is no filter\n",
      "INFO:foo:Goodbye\n"
     ]
    }
   ],
   "source": [
    "reload()\n",
    "\n",
    "def filter_ignore_me(record: logging.LogRecord) -> bool:\n",
    "    \"\"\"True means the message should be preserved\"\"\"\n",
    "    return \"IGNORED\" not in record.msg\n",
    "\n",
    "logging.basicConfig(level=\"INFO\")\n",
    "\n",
    "logger = logging.getLogger(\"foo\")\n",
    "logger.info(\"Hello\")\n",
    "logger.info(\"This message should be IGNORED but there is no filter\")\n",
    "\n",
    "logger.addFilter(filter_ignore_me)\n",
    "logger.info(\"This message should also be IGNORED\")\n",
    "logger.info(\"Goodbye\")"
   ]
  },
  {
   "cell_type": "code",
   "execution_count": 13,
   "metadata": {},
   "outputs": [
    {
     "name": "stderr",
     "output_type": "stream",
     "text": [
      "INFO:foo:Hello\n",
      "WARNING:foo:Goodbye\n"
     ]
    }
   ],
   "source": [
    "reload()\n",
    "\n",
    "class MyFilter(logging.Filter):\n",
    "    \"\"\"A Filter can also be an instance of logging.Filter\"\"\"\n",
    "\n",
    "    def filter(self, record: logging.LogRecord) -> bool:\n",
    "        \"\"\"A filter may also modify inplace the Log Record\"\"\"\n",
    "        if \"IGNORED\" in record.msg:\n",
    "            return False\n",
    "        if \"IMPORTANT\" in record.msg:\n",
    "            # I wouldn't do this in real life\n",
    "            record.levelname = \"WARNING\"\n",
    "            record.levelno = 30\n",
    "            record.msg = record.msg.replace(\"IMPORTANT\", \"\").strip()\n",
    "        return True\n",
    "\n",
    "logging.basicConfig(level=\"INFO\")\n",
    "\n",
    "logger = logging.getLogger(\"foo\")\n",
    "\n",
    "logger.addFilter(MyFilter())\n",
    "logger.info(\"Hello\")\n",
    "logger.info(\"This message should be IGNORED\")\n",
    "logger.info(\"IMPORTANT Goodbye\")"
   ]
  },
  {
   "cell_type": "markdown",
   "metadata": {},
   "source": [
    "## Filter in both Loggers and Handlers"
   ]
  },
  {
   "cell_type": "code",
   "execution_count": null,
   "metadata": {},
   "outputs": [],
   "source": []
  },
  {
   "cell_type": "markdown",
   "metadata": {},
   "source": [
    "# Tips and FAQ\n",
    "1. Numbered log levels\n",
    "2. Why late formatting\n",
    "3. Logging in libraries: NullHandler and LastResort.\n",
    "4. `extra`"
   ]
  },
  {
   "cell_type": "code",
   "execution_count": null,
   "metadata": {},
   "outputs": [],
   "source": []
  }
 ],
 "metadata": {
  "kernelspec": {
   "display_name": "Python 3.10.5 64-bit ('3.10.5')",
   "language": "python",
   "name": "python3"
  },
  "language_info": {
   "codemirror_mode": {
    "name": "ipython",
    "version": 3
   },
   "file_extension": ".py",
   "mimetype": "text/x-python",
   "name": "python",
   "nbconvert_exporter": "python",
   "pygments_lexer": "ipython3",
   "version": "3.10.5"
  },
  "orig_nbformat": 4,
  "vscode": {
   "interpreter": {
    "hash": "c156407c2cd875850196db48ba2d8f57b7bbc78ea033c9e1a242f647c02a243c"
   }
  }
 },
 "nbformat": 4,
 "nbformat_minor": 2
}
