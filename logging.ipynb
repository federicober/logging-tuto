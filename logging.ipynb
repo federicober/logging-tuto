{
 "cells": [
  {
   "cell_type": "markdown",
   "metadata": {},
   "source": [
    "# `import logging`\n",
    "\n",
    "Going beyond \n",
    "\n",
    "```python\n",
    "logging.basicConfig(level=\"INFO\"); logging.info(\"Hello\")\n",
    "```\n",
    "\n",
    "---\n",
    "\n",
    "**Table of contents**\n",
    "\n",
    "[TOC]"
   ]
  },
  {
   "cell_type": "code",
   "execution_count": 1,
   "metadata": {},
   "outputs": [],
   "source": [
    "import logging\n",
    "import logging.config\n",
    "import importlib\n",
    "import sys\n",
    "import os\n",
    "import os.path\n",
    "import time\n",
    "import random\n",
    "\n",
    "# use this file when logging to ensure it is cleaned after each cell\n",
    "LOGFILE = \"logging-article.log\"\n",
    "\n",
    "def read_logfile(file: str = LOGFILE) -> str:\n",
    "    if not os.path.exists(file):\n",
    "        raise ValueError(f\"{file} does not exist\")\n",
    "    with open(file, \"r\") as fd:\n",
    "        return fd.read()\n",
    "\n",
    "\n",
    "def clear_logfile(file: str = LOGFILE) -> None:\n",
    "    if os.path.exists(file):\n",
    "        os.unlink(file)\n",
    "\n",
    "\n",
    "def reload() -> None:\n",
    "    \"\"\"Call this at every cell to reset logging config\"\"\"\n",
    "    importlib.reload(logging)\n",
    "    importlib.reload(logging.config)\n",
    "\n",
    "    clear_logfile()"
   ]
  },
  {
   "cell_type": "markdown",
   "metadata": {},
   "source": [
    "# Logging flow\n",
    "\n",
    "*[Link to docs](https://docs.python.org/3/howto/logging.html#logging-flow)*\n",
    "\n",
    "![](https://docs.python.org/3/_images/logging_flow.png)\n",
    "\n",
    "## Objects we need to understand\n",
    "1. Loggers\n",
    "2. Handler\n",
    "3. Formatter\n",
    "4. Filters\n",
    "5. Log Record"
   ]
  },
  {
   "cell_type": "code",
   "execution_count": 2,
   "metadata": {},
   "outputs": [],
   "source": [
    "# How to give a code example of this?"
   ]
  },
  {
   "cell_type": "markdown",
   "metadata": {},
   "source": [
    "# Loggers\n",
    "## Naming loggers\n",
    "\n",
    "Loggers apply the first level of filtering and emit the log record.\n",
    "\n",
    "To get loggers, we use the `logging.getLogger(__name__)` helper function. \n",
    "Using the module  (`__name__`) as logger name is common."
   ]
  },
  {
   "cell_type": "code",
   "execution_count": 3,
   "metadata": {},
   "outputs": [
    {
     "name": "stdout",
     "output_type": "stream",
     "text": [
      "<Logger foo (WARNING)>\n",
      "foo\n",
      "<class 'logging.Logger'>\n"
     ]
    }
   ],
   "source": [
    "reload()\n",
    "\n",
    "logger = logging.getLogger(\"foo\")\n",
    "\n",
    "print(logger, logger.name, type(logger), sep=\"\\n\")"
   ]
  },
  {
   "cell_type": "markdown",
   "metadata": {},
   "source": [
    "## Loggers parents and childs\n",
    "\n",
    "Loggers are named with herarchical system using dots (`.`)."
   ]
  },
  {
   "cell_type": "code",
   "execution_count": 21,
   "metadata": {},
   "outputs": [
    {
     "name": "stdout",
     "output_type": "stream",
     "text": [
      "The parent of logger_child=<Logger foo.bar (WARNING)> is logger_child.parent=<Logger foo (WARNING)>\n"
     ]
    }
   ],
   "source": [
    "reload()\n",
    "\n",
    "logger_parent = logging.getLogger(\"foo\")\n",
    "\n",
    "logger_child = logging.getLogger(\"foo.bar\")\n",
    "\n",
    "print(f\"The parent of {logger_child=} is {logger_child.parent=}\")\n",
    "print(f\"The parent of {logger_child=} is {logger_child.parent=}\")  # TODO"
   ]
  },
  {
   "cell_type": "markdown",
   "metadata": {},
   "source": [
    "Child loggers will propagate (i.e. forward) log records to their parents if:\n",
    "- The child is enabled for \n",
    "- the `propagate` attribute is set to `True`.\n",
    "\n",
    "**Pseudo code**\n",
    "```python\n",
    "## PSEUDO\n",
    "# logger: Current Logger\n",
    "# log_record: log record being emited\n",
    "\n",
    "logger.emit(log_record)\n",
    "while \"logger has parent\" and logger.propagate:\n",
    "    parent_name = logger.name.split(\".\")[0]\n",
    "    logger = logging.getLogger(parent_name)\n",
    "\n",
    "    if logger.disabled or \"logger is not enabled for log_record\":\n",
    "        break\n",
    "\n",
    "    logger.emit(log_record)\n",
    "```"
   ]
  },
  {
   "cell_type": "code",
   "execution_count": 5,
   "metadata": {},
   "outputs": [
    {
     "name": "stdout",
     "output_type": "stream",
     "text": [
      "/\\/\\Hello/\\/\\\n",
      "---Hello---\n",
      "/\\/\\Goodbye/\\/\\\n"
     ]
    }
   ],
   "source": [
    "reload()\n",
    "\n",
    "logger_parent = logging.getLogger(\"foo\")\n",
    "\n",
    "logger_child = logging.getLogger(\"foo.bar\")\n",
    "\n",
    "logger_parent.setLevel(logging.INFO)\n",
    "logger_child.setLevel(logging.INFO)\n",
    "\n",
    "# we will go into more depth into handlers and formatters latter\n",
    "# this will print \n",
    "# parent messages with the format ---message----\n",
    "# child messages with the format /\\/\\message/\\/\\\n",
    "\n",
    "handler_parent = logging.StreamHandler(sys.stdout)\n",
    "handler_parent.formatter = logging.Formatter(\"---%(msg)s---\")\n",
    "logger_parent.addHandler(handler_parent)\n",
    "\n",
    "handler_child = logging.StreamHandler(sys.stdout)\n",
    "handler_child.formatter = logging.Formatter(\"/\\\\/\\\\%(msg)s/\\\\/\\\\\")\n",
    "logger_child.addHandler(handler_child)\n",
    "\n",
    "# With propagate, the message is emitted by both loggers\n",
    "logger_child.propagate = True\n",
    "logger_child.info(\"Hello\")\n",
    "\n",
    "# Without propagate, the child will never pass the message to the parent\n",
    "logger_child.propagate = False\n",
    "logger_child.info(\"Goodbye\")"
   ]
  },
  {
   "cell_type": "markdown",
   "metadata": {},
   "source": [
    "## The Root Logger\n",
    "\n",
    "The root logger is the parent of all loggers that don't have a dot in their name.\n",
    "\n",
    "I.e. the root logger is the ancestor of every other logger."
   ]
  },
  {
   "cell_type": "code",
   "execution_count": 6,
   "metadata": {},
   "outputs": [
    {
     "name": "stdout",
     "output_type": "stream",
     "text": [
      "Root logger: <RootLogger root (WARNING)>\n",
      "Q: Is the '<RootLogger root (WARNING)>' the parent of logger '<Logger foo (WARNING)>'?\n",
      "A: True\n",
      "Q: Is 'child_of_root=<Logger foo (WARNING)>' the same as 'named_top_level_logger=<Logger foo (WARNING)>'?\n",
      "A: True\n"
     ]
    }
   ],
   "source": [
    "reload()\n",
    "\n",
    "root_logger = logging.getLogger() # or logging.root\n",
    "child_of_root = root_logger.getChild(\"foo\")\n",
    "named_top_level_logger = logging.getLogger(\"foo\")\n",
    "\n",
    "print(\"Root logger:\", root_logger)\n",
    "print(f\"Q: Is the '{root_logger}' the parent of logger '{named_top_level_logger}'?\\nA: {named_top_level_logger.parent is root_logger}\")\n",
    "print(f\"Q: Is '{child_of_root=}' the same as '{named_top_level_logger=}'?\\nA: {child_of_root is named_top_level_logger}\")\n"
   ]
  },
  {
   "cell_type": "markdown",
   "metadata": {},
   "source": [
    "## Loggers: Level"
   ]
  },
  {
   "cell_type": "code",
   "execution_count": 7,
   "metadata": {},
   "outputs": [
    {
     "name": "stderr",
     "output_type": "stream",
     "text": [
      "INFO:foo:Hello\n"
     ]
    }
   ],
   "source": [
    "reload()\n",
    "\n",
    "logging.basicConfig(level=\"INFO\")\n",
    "\n",
    "logger = logging.getLogger(\"foo\")\n",
    "\n",
    "# If the set log level is less or equal than the message\n",
    "# the log record is emitted \n",
    "logger.setLevel(logging.INFO)\n",
    "logger.info(\"Hello\")\n",
    "\n",
    "# If the set log level is greater than the message\n",
    "# the log record is ignored \n",
    "logger.setLevel(logging.WARNING)\n",
    "logger.info(\"Goodbye\")\n"
   ]
  },
  {
   "cell_type": "markdown",
   "metadata": {},
   "source": [
    "## Loggers: Disabled"
   ]
  },
  {
   "cell_type": "code",
   "execution_count": 8,
   "metadata": {},
   "outputs": [
    {
     "name": "stderr",
     "output_type": "stream",
     "text": [
      "INFO:foo:Hello\n"
     ]
    }
   ],
   "source": [
    "reload()\n",
    "\n",
    "logging.basicConfig(level=\"INFO\")\n",
    "\n",
    "logger = logging.getLogger(\"foo\")\n",
    "\n",
    "logger.disabled = False\n",
    "logger.info(\"Hello\")\n",
    "\n",
    "logger.disabled = True\n",
    "logger.info(\"Goodbye\")"
   ]
  },
  {
   "cell_type": "markdown",
   "metadata": {},
   "source": [
    "## Custom logger classes\n",
    "\n",
    "You can extend and modify the behaviour of the Logger class.\n",
    "\n",
    "Some example use cases are:\n",
    "- Json loggers\n",
    "- Context loggers\n",
    "- etc"
   ]
  },
  {
   "cell_type": "code",
   "execution_count": 9,
   "metadata": {},
   "outputs": [
    {
     "name": "stderr",
     "output_type": "stream",
     "text": [
      "INFO:foo:Hello\n"
     ]
    },
    {
     "name": "stdout",
     "output_type": "stream",
     "text": [
      "I'm making a log record\n"
     ]
    }
   ],
   "source": [
    "reload()\n",
    "\n",
    "class MyNoisyLogger(logging.Logger):\n",
    "    def makeRecord(self, *args, **kwargs) -> logging.LogRecord:\n",
    "        print(\"I'm making a log record\")\n",
    "        return super().makeRecord(*args, *kwargs)\n",
    "\n",
    "logging.basicConfig(level=\"INFO\")\n",
    "\n",
    "logging.setLoggerClass(MyNoisyLogger)\n",
    "\n",
    "logger = logging.getLogger(\"foo\")\n",
    "logger.info(\"Hello\")"
   ]
  },
  {
   "cell_type": "markdown",
   "metadata": {},
   "source": [
    "# Handlers\n",
    "Handlers act upon log records do perform an specific action.\n",
    "\n",
    "Some example actions:\n",
    "- Print to terminal\n",
    "- Append to file\n",
    "- Send a HTTP request\n",
    "- etc\n",
    "\n",
    "Handlers are also responsible for formatting the log record and transforming them to strings. See [Formatters](#formatters).\n",
    "\n",
    "The two most common logger examples are:\n",
    "- `StreamHandler`: prints messages to terminal (defaults to stderr)\n",
    "- `FileHandler`: writes messages to a file"
   ]
  },
  {
   "cell_type": "code",
   "execution_count": 10,
   "metadata": {},
   "outputs": [
    {
     "name": "stdout",
     "output_type": "stream",
     "text": [
      "[<StreamHandler stdout (NOTSET)>]\n",
      "With one StreamHandler\n",
      "[<StreamHandler stdout (NOTSET)>, <StreamHandler stdout (NOTSET)>]\n",
      "With two StreamHandlers\n",
      "With two StreamHandlers\n",
      "[<StreamHandler stdout (NOTSET)>, <StreamHandler stdout (NOTSET)>, <FileHandler /apps/home/oberndof/workspace/python-guild/material/getting-started/logging-article.log (NOTSET)>]\n",
      "Before emitting log: ''\n",
      "With two StreamHandlers and a FileHandler\n",
      "With two StreamHandlers and a FileHandler\n",
      "After emitting log: 'With two StreamHandlers and a FileHandler\\n'\n"
     ]
    }
   ],
   "source": [
    "reload()\n",
    "\n",
    "logger = logging.getLogger(\"foo\")\n",
    "logger.setLevel(logging.INFO)\n",
    "\n",
    "# without any handlers\n",
    "logger.info(\"Without handlers\")\n",
    "\n",
    "# with a StreamHandler\n",
    "logger.addHandler(logging.StreamHandler(sys.stdout))\n",
    "print(logger.handlers)\n",
    "logger.info(\"With one StreamHandler\")\n",
    "\n",
    "# with another StreamHandler\n",
    "# the message gets handled by each handler independently\n",
    "logger.addHandler(logging.StreamHandler(sys.stdout))\n",
    "print(logger.handlers)\n",
    "logger.info(\"With two StreamHandlers\")\n",
    "\n",
    "# Add a FileHandler\n",
    "logger.addHandler(logging.FileHandler(LOGFILE))\n",
    "print(logger.handlers)\n",
    "print(\"Before emitting log:\", repr(read_logfile()))  # before message logfile is empty\n",
    "logger.info(\"With two StreamHandlers and a FileHandler\")\n",
    "print(\"After emitting log:\", repr(read_logfile()))  # after message logfile is not empty"
   ]
  },
  {
   "cell_type": "markdown",
   "metadata": {},
   "source": [
    "## Handlers: levels and and other attributes\n",
    "Handlers, like loggers, have a level and [filters](#filters).\n",
    "\n",
    "Contrary to loggers:\n",
    "- they are not hierarchical and don't propagate anything\n",
    "- they do not have a enabled/disabled state"
   ]
  },
  {
   "cell_type": "code",
   "execution_count": 11,
   "metadata": {},
   "outputs": [
    {
     "name": "stdout",
     "output_type": "stream",
     "text": [
      "[<StreamHandler stdout (INFO)>]\n",
      "Hello\n",
      "[<StreamHandler stdout (WARNING)>]\n"
     ]
    }
   ],
   "source": [
    "reload()\n",
    "\n",
    "logger = logging.getLogger(\"foo\")\n",
    "logger.setLevel(logging.INFO)\n",
    "\n",
    "handler: logging.Handler = logging.StreamHandler(sys.stdout)\n",
    "logger.addHandler(handler)\n",
    "\n",
    "handler.setLevel(logging.INFO)\n",
    "print(logger.handlers)\n",
    "logger.info(\"Hello\")\n",
    "\n",
    "handler.setLevel(logging.WARNING)\n",
    "print(logger.handlers)\n",
    "logger.info(\"Hello\")  # handler still exists but ignores the record"
   ]
  },
  {
   "cell_type": "markdown",
   "metadata": {},
   "source": [
    "## Useful Handlers\n",
    "\n",
    "*[Link to docs](https://docs.python.org/3/howto/logging.html#useful-handlers)*\n",
    "\n",
    "Python, with its philosophy of \"batteries included\", has a lot of useful handlers already included in the `logging.handlers` module. Here are some of them:\n",
    "\n",
    "- `RotatingFileHandler` instances send messages to disk files, with support for maximum log file sizes and log file rotation.\n",
    "- `TimedRotatingFileHandler` instances send messages to disk files, rotating the log file at certain timed intervals.\n",
    "- `SocketHandler` instances send messages to TCP/IP sockets.\n",
    "- `DatagramHandler` instances send messages to UDP sockets.\n",
    "- `SMTPHandler` instances send messages to a designated email address.\n",
    "- `SysLogHandler` instances send messages to a Unix syslog daemon, possibly on a remote machine.\n",
    "- `HTTPHandler` instances send messages to an HTTP server using either GET or POST semantics.\n",
    "- `QueueHandler` instances send messages to a queue, such as those implemented in the queue or multiprocessing modules.\n",
    "- `NullHandler`: See [this section  of the notebook](#logging-in-libraries-nullhandler-and-lastresort)."
   ]
  },
  {
   "cell_type": "code",
   "execution_count": 12,
   "metadata": {},
   "outputs": [],
   "source": [
    "# should we provide an example of this?"
   ]
  },
  {
   "cell_type": "markdown",
   "metadata": {},
   "source": [
    "# LogRecords\n",
    "The objects communicated between loggers, handlers and other classes are not string messages, they are of type `LogRecord`."
   ]
  },
  {
   "cell_type": "code",
   "execution_count": 13,
   "metadata": {},
   "outputs": [
    {
     "name": "stdout",
     "output_type": "stream",
     "text": [
      "LogRecord is: <LogRecord: name of the logger tat created the record, 20, /path/to/file/that/logged, 17, \"the message before formatting args: %s\">\n",
      "The formatted message is: the message before formatting args: args to format msg\n"
     ]
    }
   ],
   "source": [
    "# lets take a look to the constructor\n",
    "log_record = logging.LogRecord(\n",
    "    name=\"name of the logger tat created the record\",\n",
    "    level=logging.INFO,\n",
    "    pathname=\"/path/to/file/that/logged\",\n",
    "    lineno=17,\n",
    "    msg=\"the message before formatting args: %s\",\n",
    "    args=(\"args to format msg\",),\n",
    "    exc_info=None,\n",
    "    func=None,\n",
    "    sinfo=None,\n",
    ")\n",
    "\n",
    "# and some of its methods\n",
    "print(\"LogRecord is:\", repr(log_record))\n",
    "print(\"The formatted message is:\", log_record.getMessage())"
   ]
  },
  {
   "cell_type": "markdown",
   "metadata": {},
   "source": [
    "# Formatters\n",
    "[Most] Handlers have a formatter. It determines how to convert the LogRecord into a string when emitting the message."
   ]
  },
  {
   "cell_type": "code",
   "execution_count": 14,
   "metadata": {},
   "outputs": [
    {
     "name": "stdout",
     "output_type": "stream",
     "text": [
      "Without much formatting\n",
      "2022-11-15 14:59:18,510 - INFO - With formatting\n",
      "20221115T14:59 - INFO - With message and date formatting\n"
     ]
    }
   ],
   "source": [
    "reload()\n",
    "\n",
    "logger = logging.getLogger(\"foo\")\n",
    "logger.setLevel(logging.INFO)\n",
    "\n",
    "handler: logging.Handler = logging.StreamHandler(sys.stdout)\n",
    "logger.addHandler(handler)\n",
    "handler.setFormatter(logging.Formatter(\"%(message)s\"))\n",
    "logger.info(\"Without much formatting\")\n",
    "handler.setFormatter(logging.Formatter(\"%(asctime)s - %(levelname)s - %(msg)s\"))\n",
    "logger.info(\"With formatting\")\n",
    "handler.setFormatter(logging.Formatter(\"%(asctime)s - %(levelname)s - %(msg)s\", datefmt=\"%Y%m%dT%H:%M\"))\n",
    "logger.info(\"With message and date formatting\")"
   ]
  },
  {
   "cell_type": "markdown",
   "metadata": {},
   "source": [
    "## Formatter attributes\n",
    "You can pass any LogRecord attribute as keys in your string-format:\n",
    "\n",
    "| Attribute | Format | Description |\n",
    "|-----------|--------|-------------|\n",
    "| asctime | `%(asctime)s` | Human-readable time when the `LogRecord` was created.  By default this is of the form ‘2003-07-08 16:49:45,896’ |\n",
    "| created | `%(created)f` | Timestamp of `asctime`  |\n",
    "| filename | `%(filename)s` | Filename portion of `pathname`. |\n",
    "| funcName | `%(funcName)s` | Name of function containing the logging call. |\n",
    "| levelname | `%(levelname)s` | Text logging level for the message. |\n",
    "| levelno | `%(levelno)s` | [Numeric logging level](#numeric-log-levels) for the message. |\n",
    "| lineno | `%(lineno)d` | Source line number where the logging call was issued  (if available). |\n",
    "| message | `%(message)s` | The logged message, computed as `msg % args`. This is set when `Formatter.format()` is invoked. |\n",
    "| module | `%(module)s` | Module (name portion of `filename`). |\n",
    "| msecs | `%(msecs)d` | Millisecond portion of the time when the `LogRecord` was created. |\n",
    "| name | `%(name)s` | Name of the logger used to log the call. |\n",
    "| pathname | `%(pathname)s` | Full pathname of the source file where the logging call was issued (if available). |\n",
    "| process | `%(process)d` | Process ID (if available). |\n",
    "| processName | `%(processName)s` | Process name (if available). |\n",
    "| relativeCreated | `%(relativeCreated)d` | Time in milliseconds when the LogRecord was created, relative to the time the logging module was loaded. |\n",
    "| thread | `%(thread)d` | Thread ID (if available). |\n",
    "| threadName | `%(threadName)s` | Thread name (if available). |\n",
    "\n",
    "PS: Do not confuse `msg` and `message`. You are probably need `%(message)s` as `msg` is before formatting the args.\n"
   ]
  },
  {
   "cell_type": "code",
   "execution_count": 15,
   "metadata": {},
   "outputs": [
    {
     "name": "stdout",
     "output_type": "stream",
     "text": [
      "[2022-11-15 14:59:18,596][INFO][foo:9][MainProcess:MainThread] This is a good example of formatting\n"
     ]
    }
   ],
   "source": [
    "reload()\n",
    "\n",
    "logger = logging.getLogger(\"foo\")\n",
    "logger.setLevel(logging.INFO)\n",
    "\n",
    "handler = logging.StreamHandler(sys.stdout)\n",
    "logger.addHandler(handler)\n",
    "handler.setFormatter(logging.Formatter(\"[%(asctime)s][%(levelname)s][%(name)s:%(lineno)s][%(processName)s:%(threadName)s] %(message)s\"))\n",
    "logger.info(\"This is a %s example of formatting\", \"good\")"
   ]
  },
  {
   "cell_type": "markdown",
   "metadata": {},
   "source": [
    "## Formatter styles\n",
    "It is possible to use f-style formatting or even env var expansion, with the `style` argument of the formatter.\n",
    "\n",
    "However, the messages emitted by the logger style have to use the `'%s'` style."
   ]
  },
  {
   "cell_type": "code",
   "execution_count": 16,
   "metadata": {},
   "outputs": [
    {
     "name": "stdout",
     "output_type": "stream",
     "text": [
      "[INFO] Logging with style '%'\n",
      "[INFO] Logging with style '$'\n",
      "[INFO] Logging with style '{'\n"
     ]
    },
    {
     "name": "stderr",
     "output_type": "stream",
     "text": [
      "--- Logging error ---\n",
      "Traceback (most recent call last):\n",
      "  File \"/opt/rh/rh-python38/root/usr/lib64/python3.8/logging/__init__.py\", line 1081, in emit\n",
      "    msg = self.format(record)\n",
      "  File \"/opt/rh/rh-python38/root/usr/lib64/python3.8/logging/__init__.py\", line 925, in format\n",
      "    return fmt.format(record)\n",
      "  File \"/opt/rh/rh-python38/root/usr/lib64/python3.8/logging/__init__.py\", line 664, in format\n",
      "    record.message = record.getMessage()\n",
      "  File \"/opt/rh/rh-python38/root/usr/lib64/python3.8/logging/__init__.py\", line 369, in getMessage\n",
      "    msg = msg % self.args\n",
      "TypeError: not all arguments converted during string formatting\n",
      "Call stack:\n",
      "  File \"/opt/rh/rh-python38/root/usr/lib64/python3.8/runpy.py\", line 194, in _run_module_as_main\n",
      "    return _run_code(code, main_globals, None,\n",
      "  File \"/opt/rh/rh-python38/root/usr/lib64/python3.8/runpy.py\", line 87, in _run_code\n",
      "    exec(code, run_globals)\n",
      "  File \"/lxhome/oberndof/.local/lib/python3.8/site-packages/ipykernel_launcher.py\", line 17, in <module>\n",
      "    app.launch_new_instance()\n",
      "  File \"/lxhome/oberndof/.local/lib/python3.8/site-packages/traitlets/config/application.py\", line 982, in launch_instance\n",
      "    app.start()\n",
      "  File \"/lxhome/oberndof/.local/lib/python3.8/site-packages/ipykernel/kernelapp.py\", line 712, in start\n",
      "    self.io_loop.start()\n",
      "  File \"/lxhome/oberndof/.local/lib/python3.8/site-packages/tornado/platform/asyncio.py\", line 215, in start\n",
      "    self.asyncio_loop.run_forever()\n",
      "  File \"/opt/rh/rh-python38/root/usr/lib64/python3.8/asyncio/base_events.py\", line 570, in run_forever\n",
      "    self._run_once()\n",
      "  File \"/opt/rh/rh-python38/root/usr/lib64/python3.8/asyncio/base_events.py\", line 1859, in _run_once\n",
      "    handle._run()\n",
      "  File \"/opt/rh/rh-python38/root/usr/lib64/python3.8/asyncio/events.py\", line 81, in _run\n",
      "    self._context.run(self._callback, *self._args)\n",
      "  File \"/lxhome/oberndof/.local/lib/python3.8/site-packages/ipykernel/kernelbase.py\", line 510, in dispatch_queue\n",
      "    await self.process_one()\n",
      "  File \"/lxhome/oberndof/.local/lib/python3.8/site-packages/ipykernel/kernelbase.py\", line 499, in process_one\n",
      "    await dispatch(*args)\n",
      "  File \"/lxhome/oberndof/.local/lib/python3.8/site-packages/ipykernel/kernelbase.py\", line 406, in dispatch_shell\n",
      "    await result\n",
      "  File \"/lxhome/oberndof/.local/lib/python3.8/site-packages/ipykernel/kernelbase.py\", line 730, in execute_request\n",
      "    reply_content = await reply_content\n",
      "  File \"/lxhome/oberndof/.local/lib/python3.8/site-packages/ipykernel/ipkernel.py\", line 383, in do_execute\n",
      "    res = shell.run_cell(\n",
      "  File \"/lxhome/oberndof/.local/lib/python3.8/site-packages/ipykernel/zmqshell.py\", line 528, in run_cell\n",
      "    return super().run_cell(*args, **kwargs)\n",
      "  File \"/lxhome/oberndof/.local/lib/python3.8/site-packages/IPython/core/interactiveshell.py\", line 2940, in run_cell\n",
      "    result = self._run_cell(\n",
      "  File \"/lxhome/oberndof/.local/lib/python3.8/site-packages/IPython/core/interactiveshell.py\", line 2995, in _run_cell\n",
      "    return runner(coro)\n",
      "  File \"/lxhome/oberndof/.local/lib/python3.8/site-packages/IPython/core/async_helpers.py\", line 129, in _pseudo_sync_runner\n",
      "    coro.send(None)\n",
      "  File \"/lxhome/oberndof/.local/lib/python3.8/site-packages/IPython/core/interactiveshell.py\", line 3194, in run_cell_async\n",
      "    has_raised = await self.run_ast_nodes(code_ast.body, cell_name,\n",
      "  File \"/lxhome/oberndof/.local/lib/python3.8/site-packages/IPython/core/interactiveshell.py\", line 3373, in run_ast_nodes\n",
      "    if await self.run_code(code, result, async_=asy):\n",
      "  File \"/lxhome/oberndof/.local/lib/python3.8/site-packages/IPython/core/interactiveshell.py\", line 3433, in run_code\n",
      "    exec(code_obj, self.user_global_ns, self.user_ns)\n",
      "  File \"/tmp/ipykernel_22008/3473321657.py\", line 17, in <module>\n",
      "    logger.info(\"Logging with style {}\", \"{\") # this will create an error\n",
      "Message: 'Logging with style {}'\n",
      "Arguments: ('{',)\n"
     ]
    }
   ],
   "source": [
    "reload()\n",
    "\n",
    "logger = logging.getLogger(\"foo\")\n",
    "logger.setLevel(logging.INFO)\n",
    "\n",
    "handler = logging.StreamHandler(sys.stdout)\n",
    "logger.addHandler(handler)\n",
    "\n",
    "handler.setFormatter(logging.Formatter(\"[%(levelname)s] %(message)s\", style=\"%\"))\n",
    "logger.info(\"Logging with style %r\", \"%\")\n",
    "\n",
    "handler.setFormatter(logging.Formatter(\"[$levelname] $message\", style=\"$\"))\n",
    "logger.info(\"Logging with style %r\", \"$\")\n",
    "\n",
    "handler.setFormatter(logging.Formatter(\"[{levelname}] {message}\", style=\"{\"))\n",
    "logger.info(\"Logging with style %r\", \"{\")\n",
    "logger.info(\"Logging with style {}\", \"{\") # this will create an error"
   ]
  },
  {
   "cell_type": "markdown",
   "metadata": {},
   "source": [
    "## How to choose a logging format\n",
    "\n",
    "Ask around, the best logging format is the one that is already used by other projects.\n",
    "\n",
    "If your team does not already have a standardized format, choose a format:\n",
    "- Contains enough information without being too much. E.g. If you have `name` as `__name__` then you don't need `module` or `pathname`.\n",
    "- Choose a format that is both human and machine readable. Your logs are usually parsed by both live log collections systems and log analytics, but they are also read by humans."
   ]
  },
  {
   "cell_type": "markdown",
   "metadata": {},
   "source": [
    "# Filters\n",
    "\n",
    "Filters are functions or classes that are called upon a LogRecord to determine if it should be filtered."
   ]
  },
  {
   "cell_type": "code",
   "execution_count": 17,
   "metadata": {},
   "outputs": [
    {
     "name": "stderr",
     "output_type": "stream",
     "text": [
      "INFO:foo:Hello\n",
      "INFO:foo:This message should be IGNORED but there is no filter\n",
      "INFO:foo:Goodbye\n"
     ]
    }
   ],
   "source": [
    "reload()\n",
    "\n",
    "def filter_ignore_me(record: logging.LogRecord) -> bool:\n",
    "    \"\"\"True means the message should be preserved\"\"\"\n",
    "    return \"IGNORED\" not in record.msg\n",
    "\n",
    "logging.basicConfig(level=\"INFO\")\n",
    "\n",
    "logger = logging.getLogger(\"foo\")\n",
    "logger.info(\"Hello\")\n",
    "logger.info(\"This message should be IGNORED but there is no filter\")\n",
    "\n",
    "logger.addFilter(filter_ignore_me)\n",
    "logger.info(\"This message should also be IGNORED\")\n",
    "logger.info(\"Goodbye\")"
   ]
  },
  {
   "cell_type": "code",
   "execution_count": 18,
   "metadata": {},
   "outputs": [
    {
     "name": "stderr",
     "output_type": "stream",
     "text": [
      "INFO:foo:Hello\n",
      "WARNING:foo:Goodbye\n"
     ]
    }
   ],
   "source": [
    "reload()\n",
    "\n",
    "class MyFilter(logging.Filter):\n",
    "    \"\"\"A Filter can also be an instance of logging.Filter\"\"\"\n",
    "\n",
    "    def filter(self, record: logging.LogRecord) -> bool:\n",
    "        \"\"\"A filter may also modify inplace the Log Record\"\"\"\n",
    "        if \"IGNORED\" in record.msg:\n",
    "            return False\n",
    "        if \"IMPORTANT\" in record.msg:\n",
    "            # I wouldn't do this in real life\n",
    "            record.levelname = \"WARNING\"\n",
    "            record.levelno = 30\n",
    "            record.msg = record.msg.replace(\"IMPORTANT\", \"\").strip()\n",
    "        return True\n",
    "\n",
    "logging.basicConfig(level=\"INFO\")\n",
    "\n",
    "logger = logging.getLogger(\"foo\")\n",
    "\n",
    "logger.addFilter(MyFilter())\n",
    "logger.info(\"Hello\")\n",
    "logger.info(\"This message should be IGNORED\")\n",
    "logger.info(\"IMPORTANT Goodbye\")"
   ]
  },
  {
   "cell_type": "markdown",
   "metadata": {},
   "source": [
    "## Filter in both Loggers and Handlers"
   ]
  },
  {
   "cell_type": "code",
   "execution_count": null,
   "metadata": {},
   "outputs": [],
   "source": []
  },
  {
   "cell_type": "markdown",
   "metadata": {},
   "source": [
    "# Optimizing logging"
   ]
  },
  {
   "cell_type": "markdown",
   "metadata": {},
   "source": [
    "## Late formatting"
   ]
  },
  {
   "cell_type": "code",
   "execution_count": null,
   "metadata": {},
   "outputs": [],
   "source": []
  },
  {
   "cell_type": "markdown",
   "metadata": {},
   "source": [
    "## Collecting less information"
   ]
  },
  {
   "cell_type": "code",
   "execution_count": 19,
   "metadata": {},
   "outputs": [],
   "source": [
    "reload()\n",
    "\n",
    "logging.logThreads = False\n",
    "logging.logProcesses = False\n",
    "logging.logMultiprocessing = False"
   ]
  },
  {
   "cell_type": "markdown",
   "metadata": {},
   "source": [
    "# Check before logging"
   ]
  },
  {
   "cell_type": "code",
   "execution_count": 20,
   "metadata": {},
   "outputs": [],
   "source": [
    "reload()\n",
    "\n",
    "logging.basicConfig(level=\"INFO\")\n",
    "\n",
    "logger = logging.getLogger(\"foo\")\n",
    "\n",
    "def expensive_func():\n",
    "    time.sleep(3)\n",
    "    return random.random()\n",
    "\n",
    "if logger.isEnabledFor(logging.DEBUG):\n",
    "    logger.debug('Message with %s', expensive_func())"
   ]
  },
  {
   "cell_type": "markdown",
   "metadata": {},
   "source": [
    "# Tips and FAQ\n",
    "1. Numeric log levels\n",
    "2. Why late formatting\n",
    "3. Logging in libraries: NullHandler and LastResort.\n",
    "4. `extra`\n",
    "5. Logging exceptions\n",
    "6. The stack_info var ?"
   ]
  },
  {
   "cell_type": "markdown",
   "metadata": {},
   "source": [
    "## Numeric Log levels"
   ]
  },
  {
   "cell_type": "code",
   "execution_count": 22,
   "metadata": {},
   "outputs": [
    {
     "data": {
      "text/plain": [
       "20"
      ]
     },
     "execution_count": 22,
     "metadata": {},
     "output_type": "execute_result"
    }
   ],
   "source": [
    "logging.INFO"
   ]
  },
  {
   "cell_type": "markdown",
   "metadata": {},
   "source": [
    "## Logging in libraries: NullHandler and LastResort"
   ]
  },
  {
   "cell_type": "code",
   "execution_count": null,
   "metadata": {},
   "outputs": [],
   "source": []
  },
  {
   "cell_type": "markdown",
   "metadata": {},
   "source": [
    "## The `extra` argument to handlers"
   ]
  },
  {
   "cell_type": "code",
   "execution_count": null,
   "metadata": {},
   "outputs": [],
   "source": []
  },
  {
   "cell_type": "markdown",
   "metadata": {},
   "source": [
    "## Logging exception tracebacks"
   ]
  },
  {
   "cell_type": "code",
   "execution_count": null,
   "metadata": {},
   "outputs": [],
   "source": []
  }
 ],
 "metadata": {
  "kernelspec": {
   "display_name": "Python 3.8.6 64-bit",
   "language": "python",
   "name": "python3"
  },
  "language_info": {
   "codemirror_mode": {
    "name": "ipython",
    "version": 3
   },
   "file_extension": ".py",
   "mimetype": "text/x-python",
   "name": "python",
   "nbconvert_exporter": "python",
   "pygments_lexer": "ipython3",
   "version": "3.8.6"
  },
  "orig_nbformat": 4,
  "vscode": {
   "interpreter": {
    "hash": "9be988d1a3ce983472d8c896bcaf5858120f6d3206b2bce88d7ce9ff75183373"
   }
  }
 },
 "nbformat": 4,
 "nbformat_minor": 2
}
